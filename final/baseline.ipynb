{
  "cells": [
    {
      "cell_type": "markdown",
      "metadata": {
        "id": "view-in-github",
        "colab_type": "text"
      },
      "source": [
        "<a href=\"https://colab.research.google.com/github/echodpp/DRL_Application/blob/main/final/baseline.ipynb\" target=\"_parent\"><img src=\"https://colab.research.google.com/assets/colab-badge.svg\" alt=\"Open In Colab\"/></a>"
      ]
    },
    {
      "cell_type": "code",
      "execution_count": 1,
      "metadata": {
        "id": "4fGgHitIePng"
      },
      "outputs": [],
      "source": [
        "import time\n",
        "import numpy as np\n",
        "import json\n",
        "import random\n",
        "import argparse"
      ]
    },
    {
      "cell_type": "code",
      "execution_count": 2,
      "metadata": {
        "id": "XJpgJhxCeZlU"
      },
      "outputs": [],
      "source": [
        "rseed = 114514\n",
        "random.seed(rseed)"
      ]
    },
    {
      "cell_type": "code",
      "source": [
        "from google.colab import drive\n",
        "drive.mount('/content/drive')"
      ],
      "metadata": {
        "colab": {
          "base_uri": "https://localhost:8080/"
        },
        "id": "DNsjYruKqPlO",
        "outputId": "b96f91c6-d68c-46ac-b579-7bac4a35a0f5"
      },
      "execution_count": 3,
      "outputs": [
        {
          "output_type": "stream",
          "name": "stdout",
          "text": [
            "Mounted at /content/drive\n"
          ]
        }
      ]
    },
    {
      "cell_type": "code",
      "execution_count": 4,
      "metadata": {
        "id": "v5NXPcUAmSXy"
      },
      "outputs": [],
      "source": [
        "def read_json(file):\n",
        "    with open(file) as f:\n",
        "        return json.load(f)\n",
        "\n",
        "def write_json(data, file):\n",
        "    with open(file, 'w', encoding='utf-8') as f:\n",
        "        json.dump(data, f, ensure_ascii=False, indent=2)\n",
        "\n",
        "data_ml_100k = read_json(\"/content/drive/MyDrive/Final_Project/ml_100k.json\")"
      ]
    },
    {
      "cell_type": "code",
      "execution_count": 5,
      "metadata": {
        "colab": {
          "base_uri": "https://localhost:8080/"
        },
        "id": "TaUXiPWpmX7c",
        "outputId": "2d5391bb-f375-4ff8-860e-57d07aec9235"
      },
      "outputs": [
        {
          "output_type": "stream",
          "name": "stdout",
          "text": [
            "My Best Friend's Wedding | The English Patient | Face/Off | Psycho | The Princess Bride | Kids | Kids in the Hall: Brain Candy | Scream | The Craft | The Rock | The Shining | Mission: Impossible | Reality Bites | Aliens | Indiana Jones and the Last Crusade | One Flew Over the Cuckoo's Nest | In the Name of the Father | Return of the Jedi | The Silence of the Lambs | The Usual Suspects | Dances with Wolves | Monty Python's Life of Brian | Monty Python and the Holy Grail | The Full Monty | Clockwork Orange, A | Apocalypse Now | Trainspotting | The Doors | Mr. Holland's Opus | Independence Day (ID4) | Liar Liar | Titanic | What's Eating Gilbert Grape | The Saint | Donnie Brasco | The Empire Strikes Back | Beautiful Girls | Mars Attacks! | Broken Arrow | Amistad | The Long Kiss Goodnight | French Kiss | The Maltese Falcon | Dazed and Confused | Strange Days\n",
            "Starship Troopers\n",
            "943\n"
          ]
        }
      ],
      "source": [
        "print (data_ml_100k[0][0])\n",
        "print (data_ml_100k[0][1])\n",
        "print (len(data_ml_100k))"
      ]
    },
    {
      "cell_type": "code",
      "source": [
        "u_item_dict = {}\n",
        "u_item_p = 0\n",
        "for elem in data_ml_100k:\n",
        "    seq_list = elem[0].split(' | ')\n",
        "    for movie in seq_list:\n",
        "        if movie not in u_item_dict:\n",
        "            u_item_dict[movie] = u_item_p\n",
        "            u_item_p +=1\n",
        "print (len(u_item_dict))\n",
        "u_item_len = len(u_item_dict)\n",
        "\n",
        "user_list = []\n",
        "for i, elem in  enumerate(data_ml_100k):\n",
        "    item_hot_list = [0 for ii in range(u_item_len)]\n",
        "    seq_list = elem[0].split(' | ')\n",
        "    for movie in seq_list:\n",
        "        item_pos = u_item_dict[movie]\n",
        "        item_hot_list[item_pos] = 1\n",
        "    user_list.append(item_hot_list)\n",
        "user_matrix = np.array(user_list)\n",
        "user_matrix_sim = np.dot(user_matrix, user_matrix.transpose())\n",
        "\n",
        "\n",
        "pop_dict = {}\n",
        "for elem in data_ml_100k:\n",
        "    # elem = data_ml_100k[i]\n",
        "    seq_list = elem[0].split(' | ')\n",
        "    for movie in seq_list:\n",
        "        if movie not in pop_dict:\n",
        "              pop_dict[movie] = 0\n",
        "        pop_dict[movie] += 1\n",
        "\n",
        "\n",
        "\n",
        "i_item_dict = {}\n",
        "i_item_id_list = []\n",
        "i_item_user_dict = {}\n",
        "i_item_p = 0\n",
        "for i, elem in  enumerate(data_ml_100k):\n",
        "    seq_list = elem[0].split(' | ')\n",
        "    for movie in seq_list:\n",
        "        if movie not in i_item_user_dict:\n",
        "            item_hot_list = [0. for ii in range(len(data_ml_100k))]\n",
        "            i_item_user_dict[movie] = item_hot_list\n",
        "            i_item_dict[movie] = i_item_p\n",
        "            i_item_id_list.append(movie)\n",
        "            i_item_p+=1\n",
        "#         item_pos = item_dict[movie]\n",
        "        i_item_user_dict[movie][i] += 1\n",
        "#     user_list.append(item_hot_list)\n",
        "i_item_s_list = []\n",
        "for item in i_item_id_list:\n",
        "    i_item_s_list.append(i_item_user_dict[item])\n",
        "#     print (sum(item_user_dict[item]))\n",
        "item_matrix = np.array(i_item_s_list)\n",
        "item_matrix_sim = np.dot(item_matrix, item_matrix.transpose())\n",
        "\n",
        "id_list =list(range(0,len(data_ml_100k)))"
      ],
      "metadata": {
        "colab": {
          "base_uri": "https://localhost:8080/"
        },
        "id": "zc-cFw7zc8Le",
        "outputId": "0b979f2e-ca69-4584-f15d-c376efeb5f7b"
      },
      "execution_count": 11,
      "outputs": [
        {
          "output_type": "stream",
          "name": "stdout",
          "text": [
            "1493\n"
          ]
        }
      ]
    },
    {
      "cell_type": "code",
      "source": [
        "def sort_uf_items(target_seq, us, num_u, num_i):\n",
        "\n",
        "    candidate_movies_dict = {}\n",
        "    sorted_us = sorted(list(enumerate(us)), key=lambda x: x[-1], reverse=True)[:num_u]\n",
        "    dvd = sum([e[-1] for e in sorted_us])\n",
        "    for us_i, us_v in sorted_us:\n",
        "        us_w = us_v * 1.0/dvd\n",
        "#         print (us_i)\n",
        "        us_elem = data_ml_100k[us_i]\n",
        "#         print (us_elem[0])\n",
        "#         assert 1==0\n",
        "        us_seq_list = us_elem[0].split(' | ')#+[us_elem[1]]\n",
        "\n",
        "        for us_m in us_seq_list:\n",
        "#             print (f\"{us_m} not in {target_seq}, {us_m not in target_seq}\")\n",
        "#             break\n",
        "\n",
        "            if us_m not in target_seq:\n",
        "                if us_m not in candidate_movies_dict:\n",
        "                    candidate_movies_dict[us_m] = 0.\n",
        "                candidate_movies_dict[us_m]+=us_w\n",
        "\n",
        "#         assert 1==0\n",
        "\n",
        "    candidate_pairs = list(sorted(candidate_movies_dict.items(), key=lambda x:x[-1], reverse=True))\n",
        "#     print (candidate_pairs)\n",
        "    candidate_items = [e[0] for e in candidate_pairs][:num_i]\n",
        "    return candidate_items"
      ],
      "metadata": {
        "id": "bhzq1xB7dBTI"
      },
      "execution_count": 13,
      "outputs": []
    },
    {
      "cell_type": "code",
      "source": [
        "results_data_15 = []\n",
        "length_limit = 8\n",
        "num_u= 12\n",
        "total_i = 19\n",
        "count = 0\n",
        "total = 0\n",
        "cand_ids = []\n",
        "for i in id_list[:1000]:\n",
        "    elem = data_ml_100k[i]\n",
        "    seq_list = elem[0].split(' | ')\n",
        "\n",
        "    candidate_items = sort_uf_items(seq_list, user_matrix_sim[i], num_u=num_u, num_i=total_i)\n",
        "\n",
        "    if elem[-1] in candidate_items:\n",
        "#         print ('HIT: 1')\n",
        "        count += 1\n",
        "        cand_ids.append(i)\n",
        "    else:\n",
        "        pass\n",
        "#         print ('HIT: 0')\n",
        "    total +=1\n",
        "print (f'count/total:{count}/{total}={count*1.0/total}')\n",
        "print ('-----------------\\n')"
      ],
      "metadata": {
        "colab": {
          "base_uri": "https://localhost:8080/"
        },
        "id": "7Aa6xkoNc1RD",
        "outputId": "e48f9e0d-947f-489c-ab8e-880959af6ae6"
      },
      "execution_count": 14,
      "outputs": [
        {
          "output_type": "stream",
          "name": "stdout",
          "text": [
            "count/total:170/943=0.18027571580063625\n",
            "-----------------\n",
            "\n"
          ]
        }
      ]
    },
    {
      "cell_type": "markdown",
      "source": [
        "### Baseline most popular"
      ],
      "metadata": {
        "id": "wnEew_7w6kgJ"
      }
    },
    {
      "cell_type": "code",
      "source": [
        "import collections\n",
        "\n",
        "# Aggregate movie popularity\n",
        "def aggregate_movie_popularity(data_ml_100k):\n",
        "    movie_counts = collections.Counter()\n",
        "    for user_data in data_ml_100k:\n",
        "        movies_watched = user_data[0].split(' | ')\n",
        "        movie_counts.update(movies_watched)\n",
        "    return movie_counts\n",
        "\n",
        "def get_top_movies(movie_counts, top_n=10):\n",
        "    return [movie for movie, count in movie_counts.most_common(top_n)]\n",
        "# Calculate hit rate for the baseline model\n",
        "def calculate_hit_rate_for_selected_users(data_ml_100k, cand_ids, top_movies):\n",
        "    count = 0\n",
        "    total = 0\n",
        "    for i in cand_ids:\n",
        "        user_data = data_ml_100k[i]\n",
        "        next_watched_movie = user_data[1]\n",
        "        if next_watched_movie in top_movies:\n",
        "            count += 1\n",
        "        total += 1\n",
        "    return count, total, count / total if total else 0"
      ],
      "metadata": {
        "id": "WLeggpU7cEhX"
      },
      "execution_count": 9,
      "outputs": []
    },
    {
      "cell_type": "code",
      "source": [
        "movie_counts = aggregate_movie_popularity(data_ml_100k)\n",
        "\n",
        "# Get the top 10 most popular movies\n",
        "top_movies = get_top_movies(movie_counts)\n",
        "\n",
        "# Calculate the hit rate for the baseline model\n",
        "count, total, hit_rate = calculate_hit_rate_for_selected_users(data_ml_100k, cand_ids, top_movies)\n",
        "print(f'Hit Rate for Selected Users: {hit_rate} ({count}/{total})')"
      ],
      "metadata": {
        "colab": {
          "base_uri": "https://localhost:8080/"
        },
        "id": "KzO1kikbcRPK",
        "outputId": "2005204e-a396-45bd-90f6-25d85f65a5ea"
      },
      "execution_count": 15,
      "outputs": [
        {
          "output_type": "stream",
          "name": "stdout",
          "text": [
            "Hit Rate for Selected Users: 0.11176470588235295 (19/170)\n"
          ]
        }
      ]
    },
    {
      "cell_type": "markdown",
      "source": [
        "## Advanced Recommenders\n",
        "### User-Based Collaborative Filtering"
      ],
      "metadata": {
        "id": "13mKOO3y6kSp"
      }
    },
    {
      "cell_type": "code",
      "source": [
        "from sklearn.metrics.pairwise import cosine_similarity\n",
        "import numpy as np\n",
        "\n",
        "# Create a user-movie matrix\n",
        "def create_user_movie_matrix(data_ml_100k):\n",
        "    # Assuming that data_ml_100k is a list of tuples/lists in the format: [watched movies list, next watched movie]\n",
        "    all_movies = set()\n",
        "    for user_data in data_ml_100k:\n",
        "        all_movies.update(user_data[0].split(' | '))\n",
        "    all_movies = list(all_movies)\n",
        "    movie_index = {movie: i for i, movie in enumerate(all_movies)}\n",
        "\n",
        "    user_movie_matrix = np.zeros((len(data_ml_100k), len(all_movies)))\n",
        "    for i, user_data in enumerate(data_ml_100k):\n",
        "        for movie in user_data[0].split(' | '):\n",
        "            user_movie_matrix[i, movie_index[movie]] = 1\n",
        "    return user_movie_matrix, movie_index\n",
        "\n",
        "# Recommend movies using User-Based Collaborative Filtering\n",
        "def recommend_movies_user_based(target_user_index, user_movie_matrix, top_n=10):\n",
        "    # Calculate similarity with other users\n",
        "    similarities = cosine_similarity(user_movie_matrix[target_user_index].reshape(1, -1), user_movie_matrix)[0]\n",
        "    similar_users = np.argsort(-similarities)[1:]  # Exclude the user itself\n",
        "\n",
        "    # Aggregate watched movies from similar users\n",
        "    recommended_movies_scores = np.sum(user_movie_matrix[similar_users], axis=0)\n",
        "\n",
        "    # Filter out movies already watched by the target user\n",
        "    watched_movies = user_movie_matrix[target_user_index] == 1\n",
        "    recommended_movies_scores[watched_movies] = 0\n",
        "\n",
        "    # Select top N recommendations\n",
        "    recommended_movie_indices = np.argsort(-recommended_movies_scores)[:top_n]\n",
        "    recommended_movies = [list(movie_index.keys())[i] for i in recommended_movie_indices]\n",
        "    return recommended_movies"
      ],
      "metadata": {
        "id": "LE6x-uTBfFYR"
      },
      "execution_count": 22,
      "outputs": []
    },
    {
      "cell_type": "code",
      "source": [
        "def recommend_movies_user_based_weighted(target_user_index, user_movie_matrix, top_n=10):\n",
        "    # Calculate similarity with other users\n",
        "    similarities = cosine_similarity(user_movie_matrix[target_user_index].reshape(1, -1), user_movie_matrix)[0]\n",
        "\n",
        "    # Weighted sum of movie ratings across all users\n",
        "    weighted_movie_scores = np.dot(similarities, user_movie_matrix)\n",
        "\n",
        "    # Filter out movies already watched by the target user\n",
        "    watched_movies = user_movie_matrix[target_user_index] == 1\n",
        "    weighted_movie_scores[watched_movies] = 0\n",
        "\n",
        "    # Select top N recommendations\n",
        "    recommended_movie_indices = np.argsort(-weighted_movie_scores)[:top_n]\n",
        "    recommended_movies = [list(movie_index.keys())[i] for i in recommended_movie_indices]\n",
        "    return recommended_movies"
      ],
      "metadata": {
        "id": "2DdVbsxhg9r7"
      },
      "execution_count": 33,
      "outputs": []
    },
    {
      "cell_type": "code",
      "source": [
        "user_movie_matrix, movie_index = create_user_movie_matrix(data_ml_100k)"
      ],
      "metadata": {
        "id": "LYnEcvK1fIVm"
      },
      "execution_count": 34,
      "outputs": []
    },
    {
      "cell_type": "code",
      "source": [
        "recommended_movies = recommend_movies_user_based_weighted(0, user_movie_matrix)\n",
        "print(\"Recommended Movies:\", recommended_movies)"
      ],
      "metadata": {
        "colab": {
          "base_uri": "https://localhost:8080/"
        },
        "id": "JSo_iq3WfXVU",
        "outputId": "8ecbec30-446e-4cc1-8ad2-777d9ec2edc9"
      },
      "execution_count": 35,
      "outputs": [
        {
          "output_type": "stream",
          "name": "stdout",
          "text": [
            "Recommended Movies: ['Star Wars', 'Air Force One', 'Contact', 'Fargo', 'Jerry Maguire', 'Toy Story', 'The Godfather', 'Twelve Monkeys', 'Star Trek: First Contact', 'Men in Black']\n"
          ]
        }
      ]
    },
    {
      "cell_type": "code",
      "source": [
        "# Recommend movies for a list of users\n",
        "def recommend_movies_for_selected_users_weighted(user_indices, user_movie_matrix, top_n=10):\n",
        "    recommendations = {}\n",
        "    for user_index in user_indices:\n",
        "        recommended_movies = recommend_movies_user_based_weighted(user_index, user_movie_matrix, top_n)\n",
        "        recommendations[user_index] = recommended_movies\n",
        "    return recommendations\n",
        "\n",
        "# Calculate hit rate\n",
        "def calculate_hit_rate_for_selected_users(data_ml_100k, recommendations):\n",
        "    count = 0\n",
        "    total = len(recommendations)\n",
        "    for user_index, recommended_movies in recommendations.items():\n",
        "        next_watched_movie = data_ml_100k[user_index][1]\n",
        "        if next_watched_movie in recommended_movies:\n",
        "            count += 1\n",
        "    return count, total, count / total if total else 0\n"
      ],
      "metadata": {
        "id": "2YUirT4Rfi9G"
      },
      "execution_count": 40,
      "outputs": []
    },
    {
      "cell_type": "code",
      "source": [
        "# Get recommendations for selected users\n",
        "recommendations = recommend_movies_for_selected_users(cand_ids, user_movie_matrix)\n",
        "\n",
        "# Calculate the hit rate for the selected users\n",
        "count, total, hit_rate = calculate_hit_rate_for_selected_users(data_ml_100k, recommendations)\n",
        "print(f'Hit Rate for Selected Users: {hit_rate} ({count}/{total})')"
      ],
      "metadata": {
        "colab": {
          "base_uri": "https://localhost:8080/"
        },
        "id": "Ymkv98DUfpbF",
        "outputId": "c3091d88-ef33-4f7d-c189-98b90237bb1d"
      },
      "execution_count": 32,
      "outputs": [
        {
          "output_type": "stream",
          "name": "stdout",
          "text": [
            "Hit Rate for Selected Users: 0.1588235294117647 (27/170)\n"
          ]
        }
      ]
    },
    {
      "cell_type": "code",
      "source": [
        "recommendations_weighted = recommend_movies_for_selected_users_weighted(cand_ids, user_movie_matrix)\n",
        "\n",
        "# Calculate the hit rate for the selected users with weighted recommendations\n",
        "count_weighted, total_weighted, hit_rate_weighted = calculate_hit_rate_for_selected_users(data_ml_100k, recommendations_weighted)\n",
        "print(f'Hit Rate for Selected Users with Weighted Recommendations: {hit_rate_weighted} ({count_weighted}/{total_weighted})')"
      ],
      "metadata": {
        "colab": {
          "base_uri": "https://localhost:8080/"
        },
        "id": "axcn-1eVhGUh",
        "outputId": "819ff174-6451-41cd-a9a1-8a6f2cdafbe0"
      },
      "execution_count": 42,
      "outputs": [
        {
          "output_type": "stream",
          "name": "stdout",
          "text": [
            "Hit Rate for Selected Users with Weighted Recommendations: 0.38235294117647056 (65/170)\n"
          ]
        }
      ]
    }
  ],
  "metadata": {
    "accelerator": "GPU",
    "colab": {
      "machine_shape": "hm",
      "provenance": [],
      "mount_file_id": "1DJUjTNFd1l_oc3TMp9ruwqBTwb1L5y6F",
      "authorship_tag": "ABX9TyMSqhDAe5rCLTTkdPctRV3k",
      "include_colab_link": true
    },
    "kernelspec": {
      "display_name": "Python 3",
      "name": "python3"
    },
    "language_info": {
      "name": "python"
    }
  },
  "nbformat": 4,
  "nbformat_minor": 0
}