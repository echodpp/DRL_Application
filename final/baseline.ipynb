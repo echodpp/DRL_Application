{
  "cells": [
    {
      "cell_type": "markdown",
      "metadata": {
        "id": "view-in-github",
        "colab_type": "text"
      },
      "source": [
        "<a href=\"https://colab.research.google.com/github/echodpp/DRL_Application/blob/main/final/baseline.ipynb\" target=\"_parent\"><img src=\"https://colab.research.google.com/assets/colab-badge.svg\" alt=\"Open In Colab\"/></a>"
      ]
    },
    {
      "cell_type": "code",
      "execution_count": null,
      "metadata": {
        "id": "4fGgHitIePng"
      },
      "outputs": [],
      "source": [
        "import time\n",
        "import numpy as np\n",
        "import json\n",
        "import openai\n",
        "import random\n",
        "import argparse"
      ]
    },
    {
      "cell_type": "code",
      "execution_count": null,
      "metadata": {
        "id": "XJpgJhxCeZlU"
      },
      "outputs": [],
      "source": [
        "rseed = 114514\n",
        "random.seed(rseed)"
      ]
    },
    {
      "cell_type": "code",
      "execution_count": null,
      "metadata": {
        "id": "v5NXPcUAmSXy"
      },
      "outputs": [],
      "source": [
        "def read_json(file):\n",
        "    with open(file) as f:\n",
        "        return json.load(f)\n",
        "\n",
        "def write_json(data, file):\n",
        "    with open(file, 'w', encoding='utf-8') as f:\n",
        "        json.dump(data, f, ensure_ascii=False, indent=2)\n",
        "\n",
        "data_ml_100k = read_json(\"/content/drive/MyDrive/Final_Project/ml_100k.json\")"
      ]
    },
    {
      "cell_type": "code",
      "execution_count": null,
      "metadata": {
        "colab": {
          "background_save": true,
          "base_uri": "https://localhost:8080/"
        },
        "id": "TaUXiPWpmX7c",
        "outputId": "fc67fecf-b358-485e-a537-d4722d2efa5b"
      },
      "outputs": [
        {
          "name": "stdout",
          "output_type": "stream",
          "text": [
            "My Best Friend's Wedding | The English Patient | Face/Off | Psycho | The Princess Bride | Kids | Kids in the Hall: Brain Candy | Scream | The Craft | The Rock | The Shining | Mission: Impossible | Reality Bites | Aliens | Indiana Jones and the Last Crusade | One Flew Over the Cuckoo's Nest | In the Name of the Father | Return of the Jedi | The Silence of the Lambs | The Usual Suspects | Dances with Wolves | Monty Python's Life of Brian | Monty Python and the Holy Grail | The Full Monty | Clockwork Orange, A | Apocalypse Now | Trainspotting | The Doors | Mr. Holland's Opus | Independence Day (ID4) | Liar Liar | Titanic | What's Eating Gilbert Grape | The Saint | Donnie Brasco | The Empire Strikes Back | Beautiful Girls | Mars Attacks! | Broken Arrow | Amistad | The Long Kiss Goodnight | French Kiss | The Maltese Falcon | Dazed and Confused | Strange Days\n",
            "Starship Troopers\n",
            "943\n"
          ]
        }
      ],
      "source": [
        "print (data_ml_100k[0][0])\n",
        "print (data_ml_100k[0][1])\n",
        "print (len(data_ml_100k))"
      ]
    },
    {
      "cell_type": "markdown",
      "source": [
        "### Baseline most popular"
      ],
      "metadata": {
        "id": "wnEew_7w6kgJ"
      }
    },
    {
      "cell_type": "code",
      "source": [
        "import numpy as np\n",
        "\n",
        "# Assuming pop_dict is a dictionary with movie titles as keys and the number of times watched as values\n",
        "# and data_ml_100k is a list of lists, where each sublist contains the movies watched by a user\n",
        "\n",
        "# Define the number of recommendations to make (N) - assuming we recommend 10 movies as in the original model\n",
        "N = 10\n",
        "\n",
        "# Sort the movies by their popularity\n",
        "sorted_movies = sorted(pop_dict.items(), key=lambda x: x[1], reverse=True)\n",
        "top_movies = [movie[0] for movie in sorted_movies[:N]]\n",
        "\n",
        "# Function to recommend top N movies that the user has not watched\n",
        "def recommend_movies(user_movies, top_movies, N):\n",
        "    recommended = []\n",
        "    for movie in top_movies:\n",
        "        if movie not in user_movies and len(recommended) < N:\n",
        "            recommended.append(movie)\n",
        "    return recommended\n",
        "\n",
        "# Calculate hit rate for the baseline model\n",
        "hits = 0\n",
        "total = 0\n",
        "\n",
        "for user_data in data_ml_100k:\n",
        "    user_movies = user_data[0].split(' | ')\n",
        "    ground_truth = user_data[1]\n",
        "    recommendations = recommend_movies(user_movies, top_movies, N)\n",
        "    if ground_truth in recommendations:\n",
        "        hits += 1\n",
        "    total += 1\n",
        "\n",
        "# Calculate hit rate\n",
        "baseline_hit_rate = hits / total\n",
        "baseline_hit_rate\n"
      ],
      "metadata": {
        "colab": {
          "base_uri": "https://localhost:8080/"
        },
        "id": "nGl_EC6D6k3w",
        "outputId": "cc4ca971-5b15-48a3-b36b-36c4044ba146"
      },
      "execution_count": null,
      "outputs": [
        {
          "output_type": "execute_result",
          "data": {
            "text/plain": [
              "0.051961823966065745"
            ]
          },
          "metadata": {},
          "execution_count": 12
        }
      ]
    },
    {
      "cell_type": "markdown",
      "source": [],
      "metadata": {
        "id": "13mKOO3y6kSp"
      }
    }
  ],
  "metadata": {
    "accelerator": "GPU",
    "colab": {
      "machine_shape": "hm",
      "provenance": [],
      "mount_file_id": "1DJUjTNFd1l_oc3TMp9ruwqBTwb1L5y6F",
      "authorship_tag": "ABX9TyMXfzcZF0HJ12Rpl3ESxpHF",
      "include_colab_link": true
    },
    "kernelspec": {
      "display_name": "Python 3",
      "name": "python3"
    },
    "language_info": {
      "name": "python"
    }
  },
  "nbformat": 4,
  "nbformat_minor": 0
}